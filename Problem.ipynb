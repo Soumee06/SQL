{
  "nbformat": 4,
  "nbformat_minor": 0,
  "metadata": {
    "colab": {
      "name": "Untitled1.ipynb",
      "provenance": [],
      "authorship_tag": "ABX9TyMSCuM/iXmeG3KGEQy5vauT",
      "include_colab_link": true
    },
    "kernelspec": {
      "name": "python3",
      "display_name": "Python 3"
    },
    "language_info": {
      "name": "python"
    }
  },
  "cells": [
    {
      "cell_type": "markdown",
      "metadata": {
        "id": "view-in-github",
        "colab_type": "text"
      },
      "source": [
        "<a href=\"https://colab.research.google.com/github/Soumee06/SQL/blob/main/Problem.ipynb\" target=\"_parent\"><img src=\"https://colab.research.google.com/assets/colab-badge.svg\" alt=\"Open In Colab\"/></a>"
      ]
    },
    {
      "cell_type": "code",
      "execution_count": 3,
      "metadata": {
        "colab": {
          "base_uri": "https://localhost:8080/"
        },
        "id": "yK9vyTArcvYe",
        "outputId": "d37fdb75-636f-47f5-dd50-f21d8cabfe16"
      },
      "outputs": [
        {
          "output_type": "stream",
          "name": "stdout",
          "text": [
            "Writing script.py\n"
          ]
        }
      ],
      "source": [
        "%%writefile script.py\n",
        "n1=8\n",
        "n2=9\n",
        "\n",
        "if n1>n2:\n",
        "  print (n1 is the largest)\n",
        "else:\n",
        "    print( n2 is the largest)"
      ]
    },
    {
      "cell_type": "code",
      "source": [
        "%%writefile -a script.py\n",
        "if n1<n2:\n",
        "  print(n1 is smallest)\n",
        "else:\n",
        "  print(n2 is smallest)"
      ],
      "metadata": {
        "colab": {
          "base_uri": "https://localhost:8080/"
        },
        "id": "4oLIFbM-c_xM",
        "outputId": "4faff940-1251-4499-f249-57488c968972"
      },
      "execution_count": 4,
      "outputs": [
        {
          "output_type": "stream",
          "name": "stdout",
          "text": [
            "Appending to script.py\n"
          ]
        }
      ]
    },
    {
      "cell_type": "code",
      "source": [
        ""
      ],
      "metadata": {
        "id": "hlXMCtJpdtoz"
      },
      "execution_count": null,
      "outputs": []
    }
  ]
}